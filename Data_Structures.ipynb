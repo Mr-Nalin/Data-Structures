{
  "nbformat": 4,
  "nbformat_minor": 0,
  "metadata": {
    "colab": {
      "provenance": []
    },
    "kernelspec": {
      "name": "python3",
      "display_name": "Python 3"
    },
    "language_info": {
      "name": "python"
    }
  },
  "cells": [
    {
      "cell_type": "markdown",
      "source": [
        "#Data Types and Structures Questions"
      ],
      "metadata": {
        "id": "AZwrkgYpLMPq"
      }
    },
    {
      "cell_type": "markdown",
      "source": [
        "1. What are data structures, and why are they important?\n",
        "\n",
        "   - Data structures are a way to organize and store data in a computer program.\n",
        "     They define how data is stored, organized, and manipulated\n",
        "     Data structures allow programmers to perform higher-level data operations like searching, sorting, insertion, and deletion.\n",
        "\n",
        "   - They are important as:\n",
        "     - They help programmers manage large amounts of data efficiently.\n",
        "     - They help programmers create effective applications.\n",
        "     - They help programmers solve complex problems.\n",
        "\n",
        "\n",
        "2.  Explain the difference between mutable and immutable data types with\n",
        "  examples.\n",
        "\n",
        "   - Mutable data types\n",
        "     - These data types can be modified after they are created. For example, in Python, lists, dictionaries, and sets are mutable data types.\n",
        "   - Immutable data types\n",
        "     - These data types cannot be changed after they are created. For example, in Python, strings, tuples, integers, and floats are immutable data types.\n",
        "\n",
        "\n",
        "3. What are the main differences between lists and tuples in Python?\n",
        "\n",
        "   - Lists and tuples are both fundamental data structures in Python, but they\n",
        "     have key differences that determine their use cases.\n",
        "     \n",
        "     - Lists are Mutable, meaning you can add, remove, or modify elements after creation while Tuples are Immutable, meaning their elements cannot be changed once created.\n",
        "\n",
        "     - Lists are defined using square brackets [ ] while Tuples are defined using parentheses ( ).\n",
        "\n",
        "     - Tuples are generally faster for accessing elements and have a smaller memory footprint while Lists are more flexible when you need to modify data.\n",
        "\n",
        "\n",
        "4. Describe how dictionaries store data.\n",
        "   \n",
        "   - A dictionary stores data as a collection of \"key-value pairs\", where each unique key is associated with a specific value, allowing for quick retrieval of data by using the key to access its corresponding value; essentially, it acts like a lookup table where you can find information based on a specific identifier (the key) rather than its position in the list.\n",
        "\n",
        "\n",
        "5. Why might you use a set instead of a list in Python?\n",
        "   \n",
        "   - You would use a set instead of a list in Python when you need unique element and sets support operations like union, intersection, difference, and symmetric difference, which are useful for tasks like finding common elements, unique elements, etc.\n",
        "\n",
        "\n",
        "6. What is a string in Python, and how is it different from a list?\n",
        "\n",
        "   - In Python, a string is a sequence of characters enclosed within quotes (single or double), representing a fixed piece of text, while a list is a mutable collection of items enclosed in square brackets, which can contain different data types and can be modified after creation; essentially, a string is immutable (cannot be changed) while a list is mutable (can be changed).\n",
        "\n",
        "\n",
        "7. How do tuples ensure data integrity in Python?\n",
        "\n",
        "   - Tuples are immutable to ensure that their contents remain constant throughout their lifecycle, guaranteeing data integrity and reliability. This immutability allows tuples to be used as keys in dictionaries and elements in sets, as they can be hashed.\n",
        "\n",
        "\n",
        "8. What is a hash table, and how does it relate to dictionaries in Python?\n",
        "\n",
        "   - A hash table is a data structure that maps keys to values using a hash function. This allows for efficient retrieval of values based on their associated keys.\n",
        "   Python dictionaries are implemented using hash tables. This is why dictionaries offer fast access to values based on their keys.\n",
        "\n",
        "\n",
        "9. Can lists contain different data types in Python?\n",
        "\n",
        "   - Yes, lists in Python can contain different data types.\n",
        "   - Example: my_list = [5, \"hi\", 5.55, True]\n",
        "\n",
        "\n",
        "10. Explain why strings are immutable in Python?\n",
        "\n",
        "  - Strings in Python are “immutable” which means they can not be changed after they are created. Some other immutable data types are integers, float, boolean, etc.\n",
        "  - The immutability of Python string is very useful as it helps in hashing, performance optimization, safety, ease of use, etc.\n",
        "\n",
        "\n",
        "11. What advantages do dictionaries offer over lists for certain tasks?\n",
        "\n",
        "   - Dictionaries have several advantages over lists, including faster lookups and easier code readability.\n",
        "\n",
        "\n",
        "12.  Describe a scenario where using a tuple would be preferable over a list.\n",
        "\n",
        "    - Using a tuple is preferable over a list in scenarios where immutability is desired. This ensures the data cannot be changed after its creation, which can lead to more predictable and safer code.\n",
        "\n",
        "    - Example Scenario: Storing Coordinates\n",
        "      - Imagine you are developing a program that works with geographical or Cartesian coordinates (e.g., (latitude, longitude) or (x, y)). These values represent fixed points and should not be altered.\n",
        "\n",
        "\n",
        "13.  How do sets handle duplicate values in Python?\n",
        "\n",
        "    - Sets in Python automatically handle duplicate values by discarding them. When you add elements to a set, only unique values are retained.\n",
        "\n",
        "\n",
        "14.  How does the “in” keyword work differently for lists and dictionaries?\n",
        "\n",
        "    - When using the \"in\" keyword, it checks for membership within a data structure, but in a list, it checks if a specific value exists within the list, while in a dictionary, it checks if a given value is a key within the dictionary; essentially, \"in\" only looks at the keys in a dictionary, not the values.\n",
        "\n",
        "\n",
        "15. Can you modify the elements of a tuple? Explain why or why not.\n",
        "\n",
        "    - No, you cannot modify the elements of a tuple in Python because tuples are \"immutable,\" meaning once created, their elements cannot be changed, added, or removed; attempting to do so will result in a TypeError.\n",
        "\n",
        "\n",
        "16. What is a nested dictionary, and give an example of its use case.\n",
        "\n",
        "   - A nested dictionary is a dictionary that contains other dictionaries as values. It's a useful way to represent complex data structures in Python.\n",
        "   - Example\n",
        "     - my_dict = {'Alex': {'Age': 30, 'Job': 'Engineer'}, 'Ross': {'Age': 28, 'Job': 'Doctor'}}\n",
        "     - In this example, my_dict is a nested dictionary with two keys, Alex and Ross. Each key has its own dictionary as a value, which contains more key-value pairs.\n",
        "\n",
        "\n",
        "17. Describe the time complexity of accessing elements in a dictionary.\n",
        "\n",
        "   - The time complexity of accessing an element in a Python dictionary is \\(O(1)\\), which means it's constant time. This is because Python dictionaries use a hash table internally, which allows for constant time lookups.\n",
        "\n",
        "\n",
        "18.  In what situations are lists preferred over dictionaries?\n",
        "\n",
        "    - Lists are preferred over dictionaries when the order of elements is important, when you need to perform operations on sequential data like appending or iterating through elements in a specific sequence, or when you need to maintain the insertion order of data, as lists inherently preserve the order of elements unlike dictionaries.\n",
        "\n",
        "\n",
        "19. Why are dictionaries considered unordered, and how does that affect data\n",
        "  retrieval?\n",
        "\n",
        "  - Dictionaries in Python are considered unordered collections because historically, they did not guarantee any particular order of their keys. However, starting from Python 3.7 (formally documented in Python 3.8), dictionaries maintain the insertion order of their keys as an implementation detail of CPython. This means that while dictionaries in modern Python are technically ordered, they were originally designed to prioritize fast lookups, insertions, and deletions, not order.\n",
        "\n",
        "\n",
        "20. Explain the difference between a list and a dictionary in terms of data\n",
        "   retrieval.\n",
        "   \n",
        "   - A list retrieves data using its index position (numerical order), while a dictionary retrieves data using a unique key, allowing for direct access to specific values based on a label rather than just their position in the sequence."
      ],
      "metadata": {
        "id": "HwA9qpe5LV8K"
      }
    },
    {
      "cell_type": "markdown",
      "source": [
        "#Practical Questions"
      ],
      "metadata": {
        "id": "gikuKqSuewkq"
      }
    },
    {
      "cell_type": "code",
      "source": [
        "#1 Write a code to create a string with your name and print it.\n",
        "\n",
        "name = \"Nalin Kumar\"\n",
        "print(name)"
      ],
      "metadata": {
        "colab": {
          "base_uri": "https://localhost:8080/"
        },
        "id": "vcsTXEe_e1zB",
        "outputId": "0395a63c-045e-4ba9-de2a-c50bf919b303"
      },
      "execution_count": null,
      "outputs": [
        {
          "output_type": "stream",
          "name": "stdout",
          "text": [
            "Nalin Kumar\n"
          ]
        }
      ]
    },
    {
      "cell_type": "code",
      "source": [
        "#2 Write a code to find the length of the string \"Hello World\".\n",
        "\n",
        "string = \"Hello World\"\n",
        "len(string)\n"
      ],
      "metadata": {
        "colab": {
          "base_uri": "https://localhost:8080/"
        },
        "id": "KkADkjnbfoAy",
        "outputId": "c41ec043-d920-4170-d8a2-7c01b00270ce"
      },
      "execution_count": null,
      "outputs": [
        {
          "output_type": "execute_result",
          "data": {
            "text/plain": [
              "11"
            ]
          },
          "metadata": {},
          "execution_count": 7
        }
      ]
    },
    {
      "cell_type": "code",
      "source": [
        "#3 Write a code to slice the first 3 characters from the string \"Python Programming\".\n",
        "\n",
        "my_string = \"Python Programming\"\n",
        "my_string[:3]"
      ],
      "metadata": {
        "colab": {
          "base_uri": "https://localhost:8080/",
          "height": 36
        },
        "id": "OPH5vw0Pgrd9",
        "outputId": "02fb1959-c586-4d5b-e87c-0f8c9808743b"
      },
      "execution_count": null,
      "outputs": [
        {
          "output_type": "execute_result",
          "data": {
            "text/plain": [
              "'Pyt'"
            ],
            "application/vnd.google.colaboratory.intrinsic+json": {
              "type": "string"
            }
          },
          "metadata": {},
          "execution_count": 8
        }
      ]
    },
    {
      "cell_type": "code",
      "source": [
        "#4 Write a code to convert the string \"hello\" to uppercase.\n",
        "\n",
        "string = \"hello\"\n",
        "string.upper()"
      ],
      "metadata": {
        "colab": {
          "base_uri": "https://localhost:8080/",
          "height": 36
        },
        "id": "Rtd8zYLoh3xR",
        "outputId": "4d771342-0c65-4f3e-85a6-f23965acd36a"
      },
      "execution_count": null,
      "outputs": [
        {
          "output_type": "execute_result",
          "data": {
            "text/plain": [
              "'HELLO'"
            ],
            "application/vnd.google.colaboratory.intrinsic+json": {
              "type": "string"
            }
          },
          "metadata": {},
          "execution_count": 10
        }
      ]
    },
    {
      "cell_type": "code",
      "source": [
        "#5 Write a code to replace the word \"apple\" with \"orange\" in the string \"I like apple\".\n",
        "\n",
        "my_string = \"I like apple\"\n",
        "my_string.replace(\"apple\", \"orange\")"
      ],
      "metadata": {
        "colab": {
          "base_uri": "https://localhost:8080/",
          "height": 36
        },
        "id": "ngoMsE8RipwD",
        "outputId": "a51f3f8c-6062-4a37-a1eb-86952626559d"
      },
      "execution_count": null,
      "outputs": [
        {
          "output_type": "execute_result",
          "data": {
            "text/plain": [
              "'I like orange'"
            ],
            "application/vnd.google.colaboratory.intrinsic+json": {
              "type": "string"
            }
          },
          "metadata": {},
          "execution_count": 12
        }
      ]
    },
    {
      "cell_type": "code",
      "source": [
        "#6 Write a code to create a list with numbers 1 to 5 and print it.\n",
        "\n",
        "numbers = [1, 2, 3, 4, 5]\n",
        "print(numbers)"
      ],
      "metadata": {
        "colab": {
          "base_uri": "https://localhost:8080/"
        },
        "id": "knZifkOIjsaz",
        "outputId": "3dee5e1d-160f-4557-e681-a73bffa6df65"
      },
      "execution_count": null,
      "outputs": [
        {
          "output_type": "stream",
          "name": "stdout",
          "text": [
            "[1, 2, 3, 4, 5]\n"
          ]
        }
      ]
    },
    {
      "cell_type": "code",
      "source": [
        "#7 Write a code to append the number 10 to the list [1, 2, 3, 4].\n",
        "\n",
        "my_list = [1, 2, 3, 4]\n",
        "my_list.append(10)\n",
        "\n",
        "print(my_list)"
      ],
      "metadata": {
        "colab": {
          "base_uri": "https://localhost:8080/"
        },
        "id": "AV4K-De0kRnQ",
        "outputId": "b227f727-901a-44dd-80b0-dd7f246a93a4"
      },
      "execution_count": null,
      "outputs": [
        {
          "output_type": "stream",
          "name": "stdout",
          "text": [
            "[1, 2, 3, 4, 10]\n"
          ]
        }
      ]
    },
    {
      "cell_type": "code",
      "source": [
        "#8 Write a code to remove the number 3 from the list [1, 2, 3, 4, 5].\n",
        "\n",
        "my_list = [1, 2, 3, 4 ,5]\n",
        "my_list.remove(3)\n",
        "\n",
        "print(my_list)"
      ],
      "metadata": {
        "colab": {
          "base_uri": "https://localhost:8080/"
        },
        "id": "nc3LRnF4kyW1",
        "outputId": "e544fc8c-dabc-4b08-ac56-449bd97d0fd0"
      },
      "execution_count": null,
      "outputs": [
        {
          "output_type": "stream",
          "name": "stdout",
          "text": [
            "[1, 2, 4, 5]\n"
          ]
        }
      ]
    },
    {
      "cell_type": "code",
      "source": [
        "#9 Write a code to access the second element in the list ['a', 'b', 'c', 'd'].\n",
        "\n",
        "my_list = ['a', 'b', 'c', 'd']\n",
        "my_list[1]\n"
      ],
      "metadata": {
        "colab": {
          "base_uri": "https://localhost:8080/",
          "height": 36
        },
        "id": "1MS8nQlJlYOR",
        "outputId": "6dec8dc1-1c50-4447-eb33-97a954addae2"
      },
      "execution_count": null,
      "outputs": [
        {
          "output_type": "execute_result",
          "data": {
            "text/plain": [
              "'b'"
            ],
            "application/vnd.google.colaboratory.intrinsic+json": {
              "type": "string"
            }
          },
          "metadata": {},
          "execution_count": 18
        }
      ]
    },
    {
      "cell_type": "code",
      "source": [
        "#10 Write a code to reverse the list [10, 20, 30, 40, 50].\n",
        "\n",
        "my_list = [10, 20, 30, 40, 50]\n",
        "my_list[::-1]"
      ],
      "metadata": {
        "colab": {
          "base_uri": "https://localhost:8080/"
        },
        "id": "vco5M5QTmA8Y",
        "outputId": "e08c9178-68f2-4fcf-b3f5-4c8d751a0f57"
      },
      "execution_count": null,
      "outputs": [
        {
          "output_type": "execute_result",
          "data": {
            "text/plain": [
              "[50, 40, 30, 20, 10]"
            ]
          },
          "metadata": {},
          "execution_count": 19
        }
      ]
    },
    {
      "cell_type": "code",
      "source": [
        "#11 Write a code to create a tuple with the elements 10, 20, 30 and print it.\n",
        "\n",
        "my_tuple = (10, 20, 30)\n",
        "\n",
        "print(my_tuple)"
      ],
      "metadata": {
        "colab": {
          "base_uri": "https://localhost:8080/"
        },
        "id": "KdLb_Jjmmq4z",
        "outputId": "5aadfec9-9db8-4741-e18a-3d793a250471"
      },
      "execution_count": null,
      "outputs": [
        {
          "output_type": "stream",
          "name": "stdout",
          "text": [
            "(10, 20, 30)\n"
          ]
        }
      ]
    },
    {
      "cell_type": "code",
      "source": [
        "#12  Write a code to access the first element of the tuple ('apple', 'banana', 'cherry').\n",
        "\n",
        "my_tuple = ('apple', 'banana', 'cherry')\n",
        "my_tuple[0]"
      ],
      "metadata": {
        "colab": {
          "base_uri": "https://localhost:8080/",
          "height": 36
        },
        "id": "PA4aHw-YnBvT",
        "outputId": "d28676bb-f779-474c-a866-e8b54f1ceb25"
      },
      "execution_count": null,
      "outputs": [
        {
          "output_type": "execute_result",
          "data": {
            "text/plain": [
              "'apple'"
            ],
            "application/vnd.google.colaboratory.intrinsic+json": {
              "type": "string"
            }
          },
          "metadata": {},
          "execution_count": 22
        }
      ]
    },
    {
      "cell_type": "code",
      "source": [
        "#13  Write a code to count how many times the number 2 appears in the tuple (1, 2, 3, 2, 4, 2).\n",
        "\n",
        "my_tuple = (1, 2, 3, 2, 4, 2)\n",
        "my_tuple.count(2)"
      ],
      "metadata": {
        "colab": {
          "base_uri": "https://localhost:8080/"
        },
        "id": "YDhC-oUSnaR6",
        "outputId": "6e356421-333a-42ff-ddd5-2c8579746702"
      },
      "execution_count": null,
      "outputs": [
        {
          "output_type": "execute_result",
          "data": {
            "text/plain": [
              "3"
            ]
          },
          "metadata": {},
          "execution_count": 23
        }
      ]
    },
    {
      "cell_type": "code",
      "source": [
        "#14  Write a code to find the index of the element \"cat\" in the tuple ('dog', 'cat', 'rabbit').\n",
        "\n",
        "my_tuple = ('dog', 'cat', 'rabbit')\n",
        "my_tuple.index('cat')"
      ],
      "metadata": {
        "colab": {
          "base_uri": "https://localhost:8080/"
        },
        "id": "_WF_ggsznxFy",
        "outputId": "806fc58a-a1e5-48d8-8207-fbc3e64c14dd"
      },
      "execution_count": null,
      "outputs": [
        {
          "output_type": "execute_result",
          "data": {
            "text/plain": [
              "1"
            ]
          },
          "metadata": {},
          "execution_count": 24
        }
      ]
    },
    {
      "cell_type": "code",
      "source": [
        "#15 Write a code to check if the element \"banana\" is in the tuple ('apple', 'orange', 'banana').\n",
        "\n",
        "my_tuple = ('apple', 'orange', 'banana')\n",
        "if \"banana\" in my_tuple:\n",
        "  print(\"Banana is present in tuple\")\n",
        "else:\n",
        "  print(\"Banana is not present in tuple\")\n"
      ],
      "metadata": {
        "colab": {
          "base_uri": "https://localhost:8080/"
        },
        "id": "jwOONlypoPET",
        "outputId": "133d87ac-8f80-4584-ed28-a021aea8854f"
      },
      "execution_count": null,
      "outputs": [
        {
          "output_type": "stream",
          "name": "stdout",
          "text": [
            "Banana is present in tuple\n"
          ]
        }
      ]
    },
    {
      "cell_type": "code",
      "source": [
        "#16 Write a code to create a set with the elements 1, 2, 3, 4, 5 and print it.\n",
        "\n",
        "my_set = {1, 2, 3, 4, 5}\n",
        "\n",
        "print(my_set)"
      ],
      "metadata": {
        "colab": {
          "base_uri": "https://localhost:8080/"
        },
        "id": "XEQ3CrEVpXvj",
        "outputId": "b5cf595b-4bde-4a16-a177-3a63f317b2be"
      },
      "execution_count": null,
      "outputs": [
        {
          "output_type": "stream",
          "name": "stdout",
          "text": [
            "{1, 2, 3, 4, 5}\n"
          ]
        }
      ]
    },
    {
      "cell_type": "code",
      "source": [
        "#17  Write a code to add the element 6 to the set {1, 2, 3, 4}.\n",
        "\n",
        "my_set = {1, 2, 3, 4}\n",
        "my_set.add(6)\n",
        "\n",
        "print(my_set)"
      ],
      "metadata": {
        "colab": {
          "base_uri": "https://localhost:8080/"
        },
        "id": "Qf1L99MJprph",
        "outputId": "0bb6922a-04d6-4bb0-e81a-ee6c776524cf"
      },
      "execution_count": null,
      "outputs": [
        {
          "output_type": "stream",
          "name": "stdout",
          "text": [
            "{1, 2, 3, 4, 6}\n"
          ]
        }
      ]
    }
  ]
}